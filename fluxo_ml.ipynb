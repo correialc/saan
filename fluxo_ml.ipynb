{
 "cells": [
  {
   "cell_type": "code",
   "execution_count": 1,
   "metadata": {},
   "outputs": [],
   "source": [
    "from carga_dados import CargaDados\r\n",
    "from limpeza_dados import LimpezaDados"
   ]
  },
  {
   "cell_type": "code",
   "execution_count": 6,
   "metadata": {},
   "outputs": [
    {
     "name": "stderr",
     "output_type": "stream",
     "text": [
      "INFO:root:Carregando dados de segmentos...\n",
      "INFO:root:206488 registros carregados.\n",
      "INFO:root:Etapa limpeza dados...\n"
     ]
    }
   ],
   "source": [
    "cg = CargaDados()\r\n",
    "df_seg = cg.executar()\r\n",
    "lp = LimpezaDados(df_seg)\r\n",
    "df_seg = lp.executar()\r\n"
   ]
  },
  {
   "cell_type": "code",
   "execution_count": null,
   "metadata": {},
   "outputs": [],
   "source": []
  }
 ],
 "metadata": {
  "interpreter": {
   "hash": "d61751a9c327b4b23a92903330e1bf229e309abc5b31b3ec971805facc659d30"
  },
  "kernelspec": {
   "display_name": "Python 3.8.6 64-bit ('.venv': venv)",
   "name": "python3"
  },
  "language_info": {
   "codemirror_mode": {
    "name": "ipython",
    "version": 3
   },
   "file_extension": ".py",
   "mimetype": "text/x-python",
   "name": "python",
   "nbconvert_exporter": "python",
   "pygments_lexer": "ipython3",
   "version": "3.9.6"
  },
  "orig_nbformat": 4
 },
 "nbformat": 4,
 "nbformat_minor": 2
}