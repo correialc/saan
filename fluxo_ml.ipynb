{
 "cells": [
  {
   "cell_type": "code",
   "execution_count": 1,
   "source": [
    "import pandas as pd\n",
    "from dados import Dados\n",
    "from carga_dados import CargaDados\n",
    "from limpeza_dados import LimpezaDados\n",
    "from preprocessamento import Preprocessamento"
   ],
   "outputs": [],
   "metadata": {}
  },
  {
   "cell_type": "code",
   "execution_count": 2,
   "source": [
    "pd.set_option('max_colwidth', 180)"
   ],
   "outputs": [],
   "metadata": {}
  },
  {
   "cell_type": "markdown",
   "source": [
    "## Carga de Dados"
   ],
   "metadata": {}
  },
  {
   "cell_type": "code",
   "execution_count": 3,
   "source": [
    "dados = Dados()\n",
    "seg_orig = dados.seg_orig\n",
    "seg_limp = dados.seg_limp\n",
    "seg_prep = dados.seg_prep"
   ],
   "outputs": [],
   "metadata": {}
  },
  {
   "cell_type": "code",
   "execution_count": 4,
   "source": [
    "cg = CargaDados()\n",
    "cg.executar(dados)"
   ],
   "outputs": [
    {
     "output_type": "stream",
     "name": "stderr",
     "text": [
      "INFO:root:Carregando dados de segmentos...\n",
      "INFO:root:206488 registros carregados.\n"
     ]
    }
   ],
   "metadata": {}
  },
  {
   "cell_type": "markdown",
   "source": [
    "## Limpeza de Dados"
   ],
   "metadata": {}
  },
  {
   "cell_type": "code",
   "execution_count": 5,
   "source": [
    "lp = LimpezaDados(dados)\n",
    "lp.executar(dados)"
   ],
   "outputs": [
    {
     "output_type": "stream",
     "name": "stderr",
     "text": [
      "INFO:root:Excluindo segmentos dos atos que não são ADE...\n",
      "INFO:root:91448 segmentos de atos não ADE excluídos.\n",
      "INFO:root:Restaram 115040 segmentos de atos ADE.\n",
      "INFO:root:Removendo segmentos não representativos...\n",
      "INFO:root:6827 segmentos não representativos excluídos.\n",
      "INFO:root:Restaram 108213 segmentos representativos.\n",
      "INFO:root:Removendo segmentos nulos...\n",
      "INFO:root:69 segmentos nulos excluídos.\n",
      "INFO:root:Restaram 108144 segmentos não nulos.\n",
      "INFO:root:Removendo tags HTML...\n",
      "INFO:root:Removendo caracteres de escape HTML...\n",
      "INFO:root:Reclassificando segmentos não identificados...\n",
      "INFO:root:1418 segmentos reclassificados como artigos.\n",
      "INFO:root:Limpeza de dados concluída.\n"
     ]
    }
   ],
   "metadata": {}
  },
  {
   "cell_type": "markdown",
   "source": [
    "## Preprocessamento"
   ],
   "metadata": {}
  },
  {
   "cell_type": "code",
   "execution_count": 6,
   "source": [
    "pp = Preprocessamento()\n",
    "pp.executar(dados)"
   ],
   "outputs": [
    {
     "output_type": "stream",
     "name": "stderr",
     "text": [
      "INFO:root:Carregando modelo de Português para preprocessamento...\n",
      "INFO:root:Executando pipeline de preprocessanmento...\n"
     ]
    }
   ],
   "metadata": {}
  },
  {
   "cell_type": "code",
   "execution_count": 7,
   "source": [
    "dados.seg_prep.sample()"
   ],
   "outputs": [
    {
     "output_type": "execute_result",
     "data": {
      "text/plain": [
       "        id_ato    data_pub tipo_ato   id_seg tipo_seg  \\\n",
       "177179  111699  2020-08-12      ADE  2172981   Ementa   \n",
       "\n",
       "                                                                         txt_seg  \\\n",
       "177179  Autoriza o fornecimento de selos de controle de bebidas para importação.   \n",
       "\n",
       "                                                                                          docs  \n",
       "177179  (Autoriza, o, fornecimento, de, selos, de, controle, de, bebidas, para, importação, .)  "
      ],
      "text/html": [
       "<div>\n",
       "<style scoped>\n",
       "    .dataframe tbody tr th:only-of-type {\n",
       "        vertical-align: middle;\n",
       "    }\n",
       "\n",
       "    .dataframe tbody tr th {\n",
       "        vertical-align: top;\n",
       "    }\n",
       "\n",
       "    .dataframe thead th {\n",
       "        text-align: right;\n",
       "    }\n",
       "</style>\n",
       "<table border=\"1\" class=\"dataframe\">\n",
       "  <thead>\n",
       "    <tr style=\"text-align: right;\">\n",
       "      <th></th>\n",
       "      <th>id_ato</th>\n",
       "      <th>data_pub</th>\n",
       "      <th>tipo_ato</th>\n",
       "      <th>id_seg</th>\n",
       "      <th>tipo_seg</th>\n",
       "      <th>txt_seg</th>\n",
       "      <th>docs</th>\n",
       "    </tr>\n",
       "  </thead>\n",
       "  <tbody>\n",
       "    <tr>\n",
       "      <th>177179</th>\n",
       "      <td>111699</td>\n",
       "      <td>2020-08-12</td>\n",
       "      <td>ADE</td>\n",
       "      <td>2172981</td>\n",
       "      <td>Ementa</td>\n",
       "      <td>Autoriza o fornecimento de selos de controle de bebidas para importação.</td>\n",
       "      <td>(Autoriza, o, fornecimento, de, selos, de, controle, de, bebidas, para, importação, .)</td>\n",
       "    </tr>\n",
       "  </tbody>\n",
       "</table>\n",
       "</div>"
      ]
     },
     "metadata": {},
     "execution_count": 7
    }
   ],
   "metadata": {}
  }
 ],
 "metadata": {
  "interpreter": {
   "hash": "6855027362948c6f36049d9a66887dd54609243653252d410b677972185fc71a"
  },
  "kernelspec": {
   "name": "python3",
   "display_name": "Python 3.6.9 64-bit ('.env': venv)"
  },
  "language_info": {
   "codemirror_mode": {
    "name": "ipython",
    "version": 3
   },
   "file_extension": ".py",
   "mimetype": "text/x-python",
   "name": "python",
   "nbconvert_exporter": "python",
   "pygments_lexer": "ipython3",
   "version": "3.6.9"
  },
  "orig_nbformat": 4
 },
 "nbformat": 4,
 "nbformat_minor": 2
}