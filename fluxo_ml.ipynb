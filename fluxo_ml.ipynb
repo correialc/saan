{
 "cells": [
  {
   "cell_type": "code",
   "execution_count": 1,
   "source": [
    "import pandas as pd\n",
    "from dados import Dados\n",
    "from carga_dados import CargaDados\n",
    "from limpeza_dados import LimpezaDados\n",
    "from preprocessamento import Preprocessamento"
   ],
   "outputs": [],
   "metadata": {}
  },
  {
   "cell_type": "code",
   "execution_count": 2,
   "source": [
    "pd.set_option('max_colwidth', 180)"
   ],
   "outputs": [],
   "metadata": {}
  },
  {
   "cell_type": "markdown",
   "source": [
    "## Carga de Dados"
   ],
   "metadata": {}
  },
  {
   "cell_type": "code",
   "execution_count": 3,
   "source": [
    "dados = Dados()"
   ],
   "outputs": [],
   "metadata": {}
  },
  {
   "cell_type": "code",
   "execution_count": 4,
   "source": [
    "cg = CargaDados()\n",
    "cg.executar(dados)"
   ],
   "outputs": [
    {
     "output_type": "stream",
     "name": "stderr",
     "text": [
      "INFO:root:Carregando dados de segmentos...\n",
      "INFO:root:206488 registros carregados.\n"
     ]
    }
   ],
   "metadata": {}
  },
  {
   "cell_type": "markdown",
   "source": [
    "## Limpeza de Dados"
   ],
   "metadata": {}
  },
  {
   "cell_type": "code",
   "execution_count": 5,
   "source": [
    "lp = LimpezaDados(dados)\n",
    "lp.executar(dados)"
   ],
   "outputs": [
    {
     "output_type": "stream",
     "name": "stderr",
     "text": [
      "INFO:root:Excluindo segmentos dos atos que não são ADE...\n",
      "INFO:root:91448 segmentos de atos não ADE excluídos.\n",
      "INFO:root:Restaram 115040 segmentos de atos ADE.\n",
      "INFO:root:Removendo segmentos não representativos...\n",
      "INFO:root:6827 segmentos não representativos excluídos.\n",
      "INFO:root:Restaram 108213 segmentos representativos.\n",
      "INFO:root:Removendo segmentos nulos...\n",
      "INFO:root:69 segmentos nulos excluídos.\n",
      "INFO:root:Restaram 108144 segmentos não nulos.\n",
      "INFO:root:Removendo tags HTML...\n",
      "INFO:root:Removendo caracteres de escape HTML...\n",
      "INFO:root:Reclassificando segmentos não identificados...\n",
      "INFO:root:1418 segmentos reclassificados como artigos.\n",
      "INFO:root:Limpeza de dados concluída.\n"
     ]
    }
   ],
   "metadata": {}
  },
  {
   "cell_type": "markdown",
   "source": [
    "## Preprocessamento"
   ],
   "metadata": {}
  },
  {
   "cell_type": "code",
   "execution_count": 6,
   "source": [
    "pp = Preprocessamento()\n",
    "pp.executar(dados)"
   ],
   "outputs": [
    {
     "output_type": "stream",
     "name": "stderr",
     "text": [
      "INFO:root:Carregando modelo de Português para preprocessamento...\n",
      "INFO:root:Executando pipeline de preprocessamento...\n",
      "INFO:root:Salvando resultado da tokenização...\n",
      "INFO:root:Convertendo caracteres para minúsculo...\n"
     ]
    }
   ],
   "metadata": {}
  },
  {
   "cell_type": "code",
   "execution_count": 8,
   "source": [
    "dados.prep['tokens'].values[0]"
   ],
   "outputs": [
    {
     "output_type": "execute_result",
     "data": {
      "text/plain": [
       "['declara',\n",
       " 'cancelado',\n",
       " 'de',\n",
       " 'ofício',\n",
       " ',',\n",
       " 'por',\n",
       " 'vício',\n",
       " ',',\n",
       " 'o',\n",
       " 'cnpj',\n",
       " ':',\n",
       " '23.883.946/',\n",
       " '0001-49',\n",
       " ',',\n",
       " 'da',\n",
       " 'firma',\n",
       " 'individual',\n",
       " 'denominada',\n",
       " 'maria',\n",
       " 'eliete',\n",
       " 'borges',\n",
       " 'da',\n",
       " 'silva',\n",
       " '36457949215',\n",
       " '.']"
      ]
     },
     "metadata": {},
     "execution_count": 8
    }
   ],
   "metadata": {}
  },
  {
   "cell_type": "code",
   "execution_count": null,
   "source": [],
   "outputs": [],
   "metadata": {}
  }
 ],
 "metadata": {
  "interpreter": {
   "hash": "6855027362948c6f36049d9a66887dd54609243653252d410b677972185fc71a"
  },
  "kernelspec": {
   "name": "python3",
   "display_name": "Python 3.6.9 64-bit ('.env': venv)"
  },
  "language_info": {
   "codemirror_mode": {
    "name": "ipython",
    "version": 3
   },
   "file_extension": ".py",
   "mimetype": "text/x-python",
   "name": "python",
   "nbconvert_exporter": "python",
   "pygments_lexer": "ipython3",
   "version": "3.6.9"
  },
  "orig_nbformat": 4
 },
 "nbformat": 4,
 "nbformat_minor": 2
}