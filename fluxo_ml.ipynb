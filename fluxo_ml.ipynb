{
 "cells": [
  {
   "cell_type": "code",
   "execution_count": 1,
   "source": [
    "import pandas as pd\n",
    "\n",
    "from dados import Dados\n",
    "from carga_dados import CargaDados\n",
    "from limpeza_dados import LimpezaDados\n",
    "from preprocessamento import Preprocessamento\n",
    "from extracao_caracteristicas import ExtracaoCaracteristicas\n",
    "from treinamento import Treinamento\n",
    "from classificador import Classificador\n",
    "\n",
    "from sklearn.multiclass import OneVsRestClassifier, OneVsOneClassifier\n",
    "from sklearn.svm import LinearSVC\n",
    "from sklearn.naive_bayes import MultinomialNB\n",
    "from sklearn.metrics import accuracy_score, f1_score, precision_score, recall_score"
   ],
   "outputs": [],
   "metadata": {}
  },
  {
   "cell_type": "code",
   "execution_count": 2,
   "source": [
    "pd.set_option('max_colwidth', 180)"
   ],
   "outputs": [],
   "metadata": {}
  },
  {
   "cell_type": "markdown",
   "source": [
    "## Carga de Dados"
   ],
   "metadata": {}
  },
  {
   "cell_type": "code",
   "execution_count": 3,
   "source": [
    "dados = Dados()"
   ],
   "outputs": [],
   "metadata": {}
  },
  {
   "cell_type": "code",
   "execution_count": 4,
   "source": [
    "cg = CargaDados()\n",
    "cg.executar(dados)"
   ],
   "outputs": [
    {
     "output_type": "stream",
     "name": "stderr",
     "text": [
      "INFO:root:Carregando dados de segmentos...\n",
      "INFO:root:206488 registros carregados.\n"
     ]
    }
   ],
   "metadata": {}
  },
  {
   "cell_type": "markdown",
   "source": [
    "## Limpeza de Dados"
   ],
   "metadata": {}
  },
  {
   "cell_type": "code",
   "execution_count": 5,
   "source": [
    "lp = LimpezaDados(dados)\n",
    "lp.executar(dados)"
   ],
   "outputs": [
    {
     "output_type": "stream",
     "name": "stderr",
     "text": [
      "INFO:root:Excluindo segmentos dos atos que não são ADE...\n",
      "INFO:root:91448 segmentos de atos não ADE excluídos.\n",
      "INFO:root:Restaram 115040 segmentos de atos ADE.\n",
      "INFO:root:Removendo segmentos não representativos...\n",
      "INFO:root:6827 segmentos não representativos excluídos.\n",
      "INFO:root:Restaram 108213 segmentos representativos.\n",
      "INFO:root:Removendo segmentos nulos...\n",
      "INFO:root:69 segmentos nulos excluídos.\n",
      "INFO:root:Restaram 108144 segmentos não nulos.\n",
      "INFO:root:Removendo tags HTML...\n",
      "INFO:root:Removendo caracteres de escape HTML...\n",
      "INFO:root:Reclassificando segmentos não identificados...\n",
      "INFO:root:1418 segmentos reclassificados como artigos.\n",
      "INFO:root:Limpeza de dados concluída.\n"
     ]
    }
   ],
   "metadata": {}
  },
  {
   "cell_type": "markdown",
   "source": [
    "## Preprocessamento"
   ],
   "metadata": {}
  },
  {
   "cell_type": "code",
   "execution_count": 6,
   "source": [
    "pp = Preprocessamento()\n",
    "pp.executar(dados)"
   ],
   "outputs": [
    {
     "output_type": "stream",
     "name": "stderr",
     "text": [
      "[nltk_data] Downloading package stopwords to\n",
      "[nltk_data]     /home/91872936504/nltk_data...\n",
      "[nltk_data]   Package stopwords is already up-to-date!\n",
      "INFO:root:Convertendo caracteres para minúsculo...\n",
      "INFO:root:Removendo pontuação...\n",
      "INFO:root:Realizando tokenização...\n",
      "INFO:root:Removendo stopwords...\n",
      "INFO:root:Removendo tokens menores que 2 caracteres...\n",
      "INFO:root:Reconstruindo texto a partir dos tokens...\n",
      "INFO:root:Preprocessamento concluído.\n"
     ]
    }
   ],
   "metadata": {}
  },
  {
   "cell_type": "markdown",
   "source": [
    "## Extração de Características"
   ],
   "metadata": {}
  },
  {
   "cell_type": "code",
   "execution_count": 8,
   "source": [
    "ec = ExtracaoCaracteristicas(dados)\n",
    "ec.executar(dados)"
   ],
   "outputs": [
    {
     "output_type": "stream",
     "name": "stderr",
     "text": [
      "INFO:root:Executando vetorização TF-IDF...\n",
      "INFO:root:Tamanho do vocabulario: 32311 termos\n",
      "INFO:root:Extração de características concluída.\n"
     ]
    }
   ],
   "metadata": {}
  },
  {
   "cell_type": "markdown",
   "source": [
    "## Treinamento e Teste"
   ],
   "metadata": {}
  },
  {
   "cell_type": "code",
   "execution_count": 10,
   "source": [
    "t = Treinamento()"
   ],
   "outputs": [],
   "metadata": {}
  },
  {
   "cell_type": "code",
   "execution_count": null,
   "source": [
    "# Linear SVC\n",
    "estimador = OneVsOneClassifier(LinearSVC())\n",
    "t.adicionar_modelo(Classificador('LinearSVC-OneVsOne', estimador))\n",
    "t.treinar_modelos(dados)\n",
    "\n",
    "estimador = OneVsRestClassifier(LinearSVC())\n",
    "t.adicionar_modelo(Classificador('LinearSVC-OneVsRest', estimador))\n",
    "t.treinar_modelos(dados)"
   ],
   "outputs": [],
   "metadata": {}
  },
  {
   "cell_type": "markdown",
   "source": [
    "## Resultados"
   ],
   "metadata": {}
  },
  {
   "cell_type": "code",
   "execution_count": 15,
   "source": [
    "resultado = pd.DataFrame(dados.metricas)\n",
    "resultado"
   ],
   "outputs": [
    {
     "output_type": "execute_result",
     "data": {
      "text/plain": [
       "           Linear SVC - One vs One\n",
       "acuracia                    0.9869\n",
       "f1                          0.9827\n",
       "precisao                    0.9799\n",
       "revocacao                   0.9857"
      ],
      "text/html": [
       "<div>\n",
       "<style scoped>\n",
       "    .dataframe tbody tr th:only-of-type {\n",
       "        vertical-align: middle;\n",
       "    }\n",
       "\n",
       "    .dataframe tbody tr th {\n",
       "        vertical-align: top;\n",
       "    }\n",
       "\n",
       "    .dataframe thead th {\n",
       "        text-align: right;\n",
       "    }\n",
       "</style>\n",
       "<table border=\"1\" class=\"dataframe\">\n",
       "  <thead>\n",
       "    <tr style=\"text-align: right;\">\n",
       "      <th></th>\n",
       "      <th>Linear SVC - One vs One</th>\n",
       "    </tr>\n",
       "  </thead>\n",
       "  <tbody>\n",
       "    <tr>\n",
       "      <th>acuracia</th>\n",
       "      <td>0.9869</td>\n",
       "    </tr>\n",
       "    <tr>\n",
       "      <th>f1</th>\n",
       "      <td>0.9827</td>\n",
       "    </tr>\n",
       "    <tr>\n",
       "      <th>precisao</th>\n",
       "      <td>0.9799</td>\n",
       "    </tr>\n",
       "    <tr>\n",
       "      <th>revocacao</th>\n",
       "      <td>0.9857</td>\n",
       "    </tr>\n",
       "  </tbody>\n",
       "</table>\n",
       "</div>"
      ]
     },
     "metadata": {},
     "execution_count": 15
    }
   ],
   "metadata": {}
  },
  {
   "cell_type": "code",
   "execution_count": null,
   "source": [],
   "outputs": [],
   "metadata": {}
  }
 ],
 "metadata": {
  "interpreter": {
   "hash": "6855027362948c6f36049d9a66887dd54609243653252d410b677972185fc71a"
  },
  "kernelspec": {
   "name": "python3",
   "display_name": "Python 3.6.9 64-bit ('.env': venv)"
  },
  "language_info": {
   "codemirror_mode": {
    "name": "ipython",
    "version": 3
   },
   "file_extension": ".py",
   "mimetype": "text/x-python",
   "name": "python",
   "nbconvert_exporter": "python",
   "pygments_lexer": "ipython3",
   "version": "3.6.9"
  },
  "orig_nbformat": 4
 },
 "nbformat": 4,
 "nbformat_minor": 2
}