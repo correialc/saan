{
 "cells": [
  {
   "cell_type": "code",
   "execution_count": 1,
   "source": [
    "import pandas as pd\n",
    "\n",
    "from fluxo.dados import Dados\n",
    "from fluxo.carga_dados import CargaDados\n",
    "from fluxo.limpeza_dados import LimpezaDados\n",
    "from fluxo.preprocessamento import Preprocessamento\n",
    "from fluxo.extracao_caracteristicas import ExtracaoCaracteristicas\n",
    "from fluxo.treinamento import Treinamento\n",
    "from fluxo.classificador import Classificador\n",
    "\n",
    "from sklearn.multiclass import OneVsRestClassifier, OneVsOneClassifier\n",
    "from sklearn.svm import LinearSVC\n",
    "from sklearn.naive_bayes import MultinomialNB\n",
    "from sklearn.metrics import accuracy_score, f1_score, precision_score, recall_score"
   ],
   "outputs": [],
   "metadata": {}
  },
  {
   "cell_type": "code",
   "execution_count": 2,
   "source": [
    "pd.set_option('max_colwidth', 180)"
   ],
   "outputs": [],
   "metadata": {}
  },
  {
   "cell_type": "markdown",
   "source": [
    "## Carga de Dados"
   ],
   "metadata": {}
  },
  {
   "cell_type": "code",
   "execution_count": 3,
   "source": [
    "dados = Dados()"
   ],
   "outputs": [],
   "metadata": {}
  },
  {
   "cell_type": "code",
   "execution_count": 4,
   "source": [
    "cg = CargaDados()\n",
    "cg.executar(dados)"
   ],
   "outputs": [
    {
     "output_type": "stream",
     "name": "stderr",
     "text": [
      "INFO:root:Carregando dados de segmentos...\n",
      "INFO:root:206488 registros carregados.\n"
     ]
    }
   ],
   "metadata": {}
  },
  {
   "cell_type": "markdown",
   "source": [
    "## Limpeza de Dados"
   ],
   "metadata": {}
  },
  {
   "cell_type": "code",
   "execution_count": 5,
   "source": [
    "lp = LimpezaDados(dados)\n",
    "lp.executar(dados)"
   ],
   "outputs": [
    {
     "output_type": "stream",
     "name": "stderr",
     "text": [
      "INFO:root:Excluindo segmentos dos atos que não são ADE...\n",
      "INFO:root:91448 segmentos de atos não ADE excluídos.\n",
      "INFO:root:Restaram 115040 segmentos de atos ADE.\n",
      "INFO:root:Removendo segmentos não representativos...\n",
      "INFO:root:6827 segmentos não representativos excluídos.\n",
      "INFO:root:Restaram 108213 segmentos representativos.\n",
      "INFO:root:Removendo segmentos nulos...\n",
      "INFO:root:69 segmentos nulos excluídos.\n",
      "INFO:root:Restaram 108144 segmentos não nulos.\n",
      "INFO:root:Removendo tags HTML...\n",
      "INFO:root:Removendo caracteres de escape HTML...\n",
      "INFO:root:Reclassificando segmentos não identificados...\n",
      "INFO:root:1418 segmentos reclassificados como artigos.\n",
      "INFO:root:Limpeza de dados concluída.\n"
     ]
    }
   ],
   "metadata": {}
  },
  {
   "cell_type": "markdown",
   "source": [
    "## Preprocessamento"
   ],
   "metadata": {}
  },
  {
   "cell_type": "code",
   "execution_count": 6,
   "source": [
    "pp = Preprocessamento()\n",
    "pp.executar(dados)"
   ],
   "outputs": [
    {
     "output_type": "stream",
     "name": "stderr",
     "text": [
      "[nltk_data] Downloading package stopwords to\n",
      "[nltk_data]     /home/91872936504/nltk_data...\n",
      "[nltk_data]   Package stopwords is already up-to-date!\n",
      "INFO:root:Convertendo caracteres para minúsculo...\n",
      "INFO:root:Removendo pontuação...\n",
      "INFO:root:Realizando tokenização...\n",
      "INFO:root:Removendo stopwords...\n",
      "INFO:root:Removendo tokens menores que 2 caracteres...\n",
      "INFO:root:Reconstruindo texto a partir dos tokens...\n",
      "INFO:root:Preprocessamento concluído.\n"
     ]
    }
   ],
   "metadata": {}
  },
  {
   "cell_type": "markdown",
   "source": [
    "## Extração de Características"
   ],
   "metadata": {}
  },
  {
   "cell_type": "code",
   "execution_count": 7,
   "source": [
    "ec = ExtracaoCaracteristicas(dados)\n",
    "ec.executar(dados)"
   ],
   "outputs": [
    {
     "output_type": "stream",
     "name": "stderr",
     "text": [
      "INFO:root:Executando vetorização TF-IDF...\n",
      "INFO:root:Executando vetorização TF-IDF para Cross-Validation...\n",
      "INFO:root:Extração de características concluída.\n"
     ]
    }
   ],
   "metadata": {}
  },
  {
   "cell_type": "markdown",
   "source": [
    "## Treinamento e Teste"
   ],
   "metadata": {}
  },
  {
   "cell_type": "code",
   "execution_count": 8,
   "source": [
    "t = Treinamento()"
   ],
   "outputs": [],
   "metadata": {}
  },
  {
   "cell_type": "code",
   "execution_count": 9,
   "source": [
    "# Linear SVC (SVM)\n",
    "estimador = OneVsOneClassifier(LinearSVC())\n",
    "t.adicionar_modelo(Classificador('LinearSVC-1x1', estimador))\n",
    "t.treinar_modelos(dados)\n",
    "\n",
    "estimador = OneVsRestClassifier(LinearSVC())\n",
    "t.adicionar_modelo(Classificador('LinearSVC-1xR', estimador))\n",
    "t.treinar_modelos(dados)"
   ],
   "outputs": [
    {
     "output_type": "stream",
     "name": "stderr",
     "text": [
      "INFO:root:Treinando modelos...\n",
      "INFO:root:Treinando modelos...\n"
     ]
    }
   ],
   "metadata": {}
  },
  {
   "cell_type": "code",
   "execution_count": 10,
   "source": [
    "# Multinomial Naive Bayes \n",
    "estimador = OneVsOneClassifier(MultinomialNB())\n",
    "t.adicionar_modelo(Classificador('MultinomialNB-1x1', estimador))\n",
    "t.treinar_modelos(dados)\n",
    "\n",
    "estimador = OneVsRestClassifier(MultinomialNB())\n",
    "t.adicionar_modelo(Classificador('MultinomialNB-1xR', estimador))\n",
    "t.treinar_modelos(dados)"
   ],
   "outputs": [
    {
     "output_type": "stream",
     "name": "stderr",
     "text": [
      "INFO:root:Treinando modelos...\n",
      "INFO:root:Treinando modelos...\n"
     ]
    }
   ],
   "metadata": {}
  },
  {
   "cell_type": "markdown",
   "source": [
    "## Treinamento e Teste com Cross-Validation"
   ],
   "metadata": {}
  },
  {
   "cell_type": "code",
   "execution_count": 11,
   "source": [
    "# Linear SVC (SVM)\n",
    "estimador = OneVsOneClassifier(LinearSVC())\n",
    "t.adicionar_modelo(Classificador('LinearSVC-1x1-CV', estimador))\n",
    "t.treinar_modelos(dados, 5)\n",
    "\n",
    "estimador = OneVsRestClassifier(LinearSVC())\n",
    "t.adicionar_modelo(Classificador('LinearSVC-1xR-CV', estimador))\n",
    "t.treinar_modelos(dados, 5)"
   ],
   "outputs": [
    {
     "output_type": "stream",
     "name": "stderr",
     "text": [
      "INFO:root:Treinando modelos com cross-validation...\n",
      "INFO:root:Treinando modelos com cross-validation...\n"
     ]
    }
   ],
   "metadata": {}
  },
  {
   "cell_type": "code",
   "execution_count": 12,
   "source": [
    "# Multinomial Naive Bayes \n",
    "estimador = OneVsOneClassifier(MultinomialNB())\n",
    "t.adicionar_modelo(Classificador('MultinomialNB-1x1-CV', estimador))\n",
    "t.treinar_modelos(dados, 5)\n",
    "\n",
    "estimador = OneVsRestClassifier(MultinomialNB())\n",
    "t.adicionar_modelo(Classificador('MultinomialNB-1xR-CV', estimador))\n",
    "t.treinar_modelos(dados, 5)"
   ],
   "outputs": [
    {
     "output_type": "stream",
     "name": "stderr",
     "text": [
      "INFO:root:Treinando modelos com cross-validation...\n",
      "INFO:root:Treinando modelos com cross-validation...\n"
     ]
    }
   ],
   "metadata": {}
  },
  {
   "cell_type": "code",
   "execution_count": 13,
   "source": [
    "resultado = pd.DataFrame(dados.metricas)\n",
    "resultado.transpose()"
   ],
   "outputs": [
    {
     "output_type": "execute_result",
     "data": {
      "text/plain": [
       "                      acuracia  precisao  revocacao      f1\n",
       "LinearSVC-1x1           0.9766    0.9679     0.9663  0.9668\n",
       "LinearSVC-1xR           0.9750    0.9643     0.9667  0.9651\n",
       "MultinomialNB-1x1       0.9249    0.9110     0.9170  0.9127\n",
       "MultinomialNB-1xR       0.9265    0.9164     0.9185  0.9163\n",
       "LinearSVC-1x1-CV        0.9766    0.9679     0.9663  0.9668\n",
       "LinearSVC-1xR-CV        0.9750    0.9643     0.9667  0.9651\n",
       "MultinomialNB-1x1-CV    0.9249    0.9110     0.9170  0.9127\n",
       "MultinomialNB-1xR-CV    0.9265    0.9164     0.9185  0.9163"
      ],
      "text/html": [
       "<div>\n",
       "<style scoped>\n",
       "    .dataframe tbody tr th:only-of-type {\n",
       "        vertical-align: middle;\n",
       "    }\n",
       "\n",
       "    .dataframe tbody tr th {\n",
       "        vertical-align: top;\n",
       "    }\n",
       "\n",
       "    .dataframe thead th {\n",
       "        text-align: right;\n",
       "    }\n",
       "</style>\n",
       "<table border=\"1\" class=\"dataframe\">\n",
       "  <thead>\n",
       "    <tr style=\"text-align: right;\">\n",
       "      <th></th>\n",
       "      <th>acuracia</th>\n",
       "      <th>precisao</th>\n",
       "      <th>revocacao</th>\n",
       "      <th>f1</th>\n",
       "    </tr>\n",
       "  </thead>\n",
       "  <tbody>\n",
       "    <tr>\n",
       "      <th>LinearSVC-1x1</th>\n",
       "      <td>0.9766</td>\n",
       "      <td>0.9679</td>\n",
       "      <td>0.9663</td>\n",
       "      <td>0.9668</td>\n",
       "    </tr>\n",
       "    <tr>\n",
       "      <th>LinearSVC-1xR</th>\n",
       "      <td>0.9750</td>\n",
       "      <td>0.9643</td>\n",
       "      <td>0.9667</td>\n",
       "      <td>0.9651</td>\n",
       "    </tr>\n",
       "    <tr>\n",
       "      <th>MultinomialNB-1x1</th>\n",
       "      <td>0.9249</td>\n",
       "      <td>0.9110</td>\n",
       "      <td>0.9170</td>\n",
       "      <td>0.9127</td>\n",
       "    </tr>\n",
       "    <tr>\n",
       "      <th>MultinomialNB-1xR</th>\n",
       "      <td>0.9265</td>\n",
       "      <td>0.9164</td>\n",
       "      <td>0.9185</td>\n",
       "      <td>0.9163</td>\n",
       "    </tr>\n",
       "    <tr>\n",
       "      <th>LinearSVC-1x1-CV</th>\n",
       "      <td>0.9766</td>\n",
       "      <td>0.9679</td>\n",
       "      <td>0.9663</td>\n",
       "      <td>0.9668</td>\n",
       "    </tr>\n",
       "    <tr>\n",
       "      <th>LinearSVC-1xR-CV</th>\n",
       "      <td>0.9750</td>\n",
       "      <td>0.9643</td>\n",
       "      <td>0.9667</td>\n",
       "      <td>0.9651</td>\n",
       "    </tr>\n",
       "    <tr>\n",
       "      <th>MultinomialNB-1x1-CV</th>\n",
       "      <td>0.9249</td>\n",
       "      <td>0.9110</td>\n",
       "      <td>0.9170</td>\n",
       "      <td>0.9127</td>\n",
       "    </tr>\n",
       "    <tr>\n",
       "      <th>MultinomialNB-1xR-CV</th>\n",
       "      <td>0.9265</td>\n",
       "      <td>0.9164</td>\n",
       "      <td>0.9185</td>\n",
       "      <td>0.9163</td>\n",
       "    </tr>\n",
       "  </tbody>\n",
       "</table>\n",
       "</div>"
      ]
     },
     "metadata": {},
     "execution_count": 13
    }
   ],
   "metadata": {}
  },
  {
   "cell_type": "code",
   "execution_count": null,
   "source": [],
   "outputs": [],
   "metadata": {}
  }
 ],
 "metadata": {
  "interpreter": {
   "hash": "6855027362948c6f36049d9a66887dd54609243653252d410b677972185fc71a"
  },
  "kernelspec": {
   "name": "python3",
   "display_name": "Python 3.6.9 64-bit ('.env': venv)"
  },
  "language_info": {
   "codemirror_mode": {
    "name": "ipython",
    "version": 3
   },
   "file_extension": ".py",
   "mimetype": "text/x-python",
   "name": "python",
   "nbconvert_exporter": "python",
   "pygments_lexer": "ipython3",
   "version": "3.6.9"
  },
  "orig_nbformat": 4
 },
 "nbformat": 4,
 "nbformat_minor": 2
}