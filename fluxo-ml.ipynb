{
 "cells": [
  {
   "cell_type": "code",
   "execution_count": 1,
   "metadata": {},
   "outputs": [],
   "source": [
    "import pandas as pd\n",
    "\n",
    "from fluxo.dados import Dados\n",
    "from fluxo.carga_dados import CargaDados\n",
    "from fluxo.limpeza_dados import LimpezaDados\n",
    "from fluxo.preprocessamento import Preprocessamento\n",
    "from fluxo.extracao_caracteristicas import ExtracaoCaracteristicas\n",
    "from fluxo.treinamento import Treinamento\n",
    "from fluxo.classificador import Classificador\n",
    "from fluxo.persistencia_modelo import PersistenciaModelo\n",
    "\n",
    "from sklearn.multiclass import OneVsRestClassifier, OneVsOneClassifier\n",
    "from sklearn.svm import LinearSVC\n",
    "from sklearn.naive_bayes import MultinomialNB\n",
    "from sklearn.metrics import accuracy_score, f1_score, precision_score, recall_score\n",
    "\n",
    "import joblib"
   ]
  },
  {
   "cell_type": "code",
   "execution_count": 2,
   "metadata": {},
   "outputs": [],
   "source": [
    "pd.set_option('max_colwidth', 180)"
   ]
  },
  {
   "cell_type": "code",
   "execution_count": 3,
   "metadata": {},
   "outputs": [],
   "source": [
    "# Definição do tipo de ato\n",
    "# Valores válidos: 'ADE', 'SC' ou 'Port.'\n",
    "# O valor desta variável influencia todo o comportamento deste notebook\n",
    "tipo_ato = 'ADE'"
   ]
  },
  {
   "cell_type": "markdown",
   "metadata": {},
   "source": [
    "## Carga de Dados"
   ]
  },
  {
   "cell_type": "code",
   "execution_count": 4,
   "metadata": {},
   "outputs": [],
   "source": [
    "dados = Dados()"
   ]
  },
  {
   "cell_type": "code",
   "execution_count": 5,
   "metadata": {},
   "outputs": [
    {
     "name": "stderr",
     "output_type": "stream",
     "text": [
      "10:26:33 - Carregando dados de segmentos...\n",
      "10:26:33 - 206488 registros carregados.\n"
     ]
    }
   ],
   "source": [
    "cg = CargaDados()\n",
    "cg.executar(dados)"
   ]
  },
  {
   "cell_type": "markdown",
   "metadata": {},
   "source": [
    "## Limpeza de Dados"
   ]
  },
  {
   "cell_type": "code",
   "execution_count": 6,
   "metadata": {},
   "outputs": [
    {
     "name": "stderr",
     "output_type": "stream",
     "text": [
      "10:26:33 - (Re)Carregando segmentos originais...\n",
      "10:26:33 - Removendo segmentos nulos...\n",
      "10:26:33 - 1900 segmentos nulos excluídos.\n",
      "10:26:33 - Restaram 204588 segmentos não nulos.\n",
      "10:26:33 - Removendo todos os segmentos do tipo Anexo...\n",
      "10:26:33 - 5771 segmentos do tipo Anexo excluídos.\n",
      "10:26:33 - Determinando tipos de segmento (labels) para atos do tipo ADE...\n",
      "10:26:33 - Tipos de segmento para atos ADE: ['Ementa', 'Fecho', 'Não Identificado']\n",
      "10:26:33 - Excluindo segmentos dos atos que não são ADE...\n",
      "10:26:33 - 88078 segmentos de atos não ADE excluídos.\n",
      "10:26:33 - Restaram 110739 segmentos de atos ADE.\n",
      "10:26:33 - Removendo segmentos não representativos para o tipo ADE...\n",
      "10:26:33 - 2595 segmentos não representativos excluídos.\n",
      "10:26:33 - Restaram 108144 segmentos representativos.\n",
      "10:26:33 - Removendo tags HTML...\n",
      "10:26:33 - Removendo caracteres de escape HTML...\n",
      "10:26:33 - Reclassificando segmentos não identificados...\n",
      "/home/91872936504/devx/saan/.env/lib/python3.6/site-packages/pandas/core/strings.py:2001: UserWarning: This pattern has match groups. To actually get the groups, use str.extract.\n",
      "  return func(self, *args, **kwargs)\n",
      "10:26:34 - 1023 segmentos reclassificados como Artigo.\n",
      "10:26:34 - 4 segmentos reclassificados como Inciso.\n",
      "10:26:34 - Removendo segmentos classificados através de REGEX...\n",
      "10:26:34 - Foram excluídos 43082 segmentos classificados por REGEX.\n",
      "10:26:34 - Restaram 65062 segmentos.\n",
      "10:26:34 - Limpeza de dados concluída.\n"
     ]
    }
   ],
   "source": [
    "lp = LimpezaDados(dados)\n",
    "lp.executar(dados, tipo_ato, reclassificar_nao_identificados=True)"
   ]
  },
  {
   "cell_type": "markdown",
   "metadata": {},
   "source": [
    "## Preprocessamento"
   ]
  },
  {
   "cell_type": "code",
   "execution_count": 7,
   "metadata": {},
   "outputs": [
    {
     "name": "stderr",
     "output_type": "stream",
     "text": [
      "[nltk_data] Downloading package stopwords to\n",
      "[nltk_data]     /home/91872936504/nltk_data...\n",
      "[nltk_data]   Package stopwords is already up-to-date!\n",
      "10:26:34 - Convertendo caracteres para minúsculo...\n",
      "10:26:34 - Removendo pontuação...\n",
      "10:26:35 - Realizando tokenização...\n",
      "10:26:35 - Removendo stopwords...\n",
      "10:26:37 - Removendo tokens menores que 2 caracteres...\n",
      "10:26:38 - Reconstruindo texto a partir dos tokens...\n",
      "10:26:38 - Preprocessamento concluído.\n"
     ]
    }
   ],
   "source": [
    "pp = Preprocessamento()\n",
    "pp.executar(dados)"
   ]
  },
  {
   "cell_type": "markdown",
   "metadata": {},
   "source": [
    "## Extração de Características"
   ]
  },
  {
   "cell_type": "code",
   "execution_count": 8,
   "metadata": {},
   "outputs": [
    {
     "name": "stderr",
     "output_type": "stream",
     "text": [
      "10:26:38 - Executando vetorização TF-IDF...\n",
      "10:26:41 - Executando vetorização TF-IDF para Cross-Validation...\n",
      "10:26:52 - Extração de características concluída.\n"
     ]
    }
   ],
   "source": [
    "ec = ExtracaoCaracteristicas(dados)\n",
    "ec.executar(dados, oversampling=True)"
   ]
  },
  {
   "cell_type": "markdown",
   "metadata": {},
   "source": [
    "## Treinamento e Teste"
   ]
  },
  {
   "cell_type": "code",
   "execution_count": 9,
   "metadata": {},
   "outputs": [],
   "source": [
    "t = Treinamento()"
   ]
  },
  {
   "cell_type": "code",
   "execution_count": 10,
   "metadata": {},
   "outputs": [],
   "source": [
    "# Linear SVC (SVM)\n",
    "estimadorSVC = LinearSVC(random_state=dados.random_state)\n",
    "t.adicionar_modelo(Classificador('LinearSVC-1xR', estimadorSVC))\n",
    "\n",
    "# Multinomial Naive Bayes \n",
    "estimadorNB = OneVsRestClassifier(MultinomialNB())\n",
    "t.adicionar_modelo(Classificador('MultinomialNB-1xR', estimadorNB))"
   ]
  },
  {
   "cell_type": "code",
   "execution_count": 11,
   "metadata": {},
   "outputs": [
    {
     "name": "stderr",
     "output_type": "stream",
     "text": [
      "10:26:52 - Treinando modelo LinearSVC-1xR...\n",
      "10:26:53 - Treinamento do modelo LinearSVC-1xR concluído.\n",
      "10:26:53 - Treinando modelo MultinomialNB-1xR...\n",
      "10:26:53 - Treinamento do modelo MultinomialNB-1xR concluído.\n"
     ]
    }
   ],
   "source": [
    "t.treinar_modelos(dados)"
   ]
  },
  {
   "cell_type": "markdown",
   "metadata": {},
   "source": [
    "## Treinamento e Teste com Cross-Validation"
   ]
  },
  {
   "cell_type": "code",
   "execution_count": 12,
   "metadata": {},
   "outputs": [],
   "source": [
    "t = Treinamento()"
   ]
  },
  {
   "cell_type": "code",
   "execution_count": 13,
   "metadata": {},
   "outputs": [],
   "source": [
    "# Linear SVC (SVM)\n",
    "estimadorSVC_CV = LinearSVC(random_state=dados.random_state)\n",
    "t.adicionar_modelo(Classificador('LinearSVC-1xR-CV', estimadorSVC_CV))\n",
    "\n",
    "# Multinomial Naive Bayes \n",
    "estimadorNB_CV = OneVsRestClassifier(MultinomialNB())\n",
    "t.adicionar_modelo(Classificador('MultinomialNB-1xR-CV', estimadorNB_CV))"
   ]
  },
  {
   "cell_type": "code",
   "execution_count": 14,
   "metadata": {},
   "outputs": [
    {
     "name": "stderr",
     "output_type": "stream",
     "text": [
      "10:26:54 - Treinando modelo LinearSVC-1xR-CV com cross-validation...\n",
      "10:27:08 - Treinamento do modelo LinearSVC-1xR-CV com cross-validation concluído.\n",
      "10:27:08 - Treinando modelo MultinomialNB-1xR-CV com cross-validation...\n",
      "10:27:13 - Treinamento do modelo MultinomialNB-1xR-CV com cross-validation concluído.\n"
     ]
    }
   ],
   "source": [
    "t.treinar_modelos(dados, cv=5)"
   ]
  },
  {
   "cell_type": "markdown",
   "metadata": {},
   "source": [
    "## Apresentação de Resultados"
   ]
  },
  {
   "cell_type": "code",
   "execution_count": 15,
   "metadata": {},
   "outputs": [
    {
     "data": {
      "text/html": [
       "<div>\n",
       "<style scoped>\n",
       "    .dataframe tbody tr th:only-of-type {\n",
       "        vertical-align: middle;\n",
       "    }\n",
       "\n",
       "    .dataframe tbody tr th {\n",
       "        vertical-align: top;\n",
       "    }\n",
       "\n",
       "    .dataframe thead th {\n",
       "        text-align: right;\n",
       "    }\n",
       "</style>\n",
       "<table border=\"1\" class=\"dataframe\">\n",
       "  <thead>\n",
       "    <tr style=\"text-align: right;\">\n",
       "      <th></th>\n",
       "      <th>acuracia</th>\n",
       "      <th>precisao</th>\n",
       "      <th>revocacao</th>\n",
       "      <th>f1</th>\n",
       "    </tr>\n",
       "  </thead>\n",
       "  <tbody>\n",
       "    <tr>\n",
       "      <th>LinearSVC-1xR</th>\n",
       "      <td>0.9905</td>\n",
       "      <td>0.9878</td>\n",
       "      <td>0.9929</td>\n",
       "      <td>0.9903</td>\n",
       "    </tr>\n",
       "    <tr>\n",
       "      <th>MultinomialNB-1xR</th>\n",
       "      <td>0.9724</td>\n",
       "      <td>0.9675</td>\n",
       "      <td>0.9760</td>\n",
       "      <td>0.9716</td>\n",
       "    </tr>\n",
       "    <tr>\n",
       "      <th>LinearSVC-1xR-CV</th>\n",
       "      <td>0.9901</td>\n",
       "      <td>0.9903</td>\n",
       "      <td>0.9901</td>\n",
       "      <td>0.9901</td>\n",
       "    </tr>\n",
       "    <tr>\n",
       "      <th>MultinomialNB-1xR-CV</th>\n",
       "      <td>0.9678</td>\n",
       "      <td>0.9681</td>\n",
       "      <td>0.9678</td>\n",
       "      <td>0.9676</td>\n",
       "    </tr>\n",
       "  </tbody>\n",
       "</table>\n",
       "</div>"
      ],
      "text/plain": [
       "                      acuracia  precisao  revocacao      f1\n",
       "LinearSVC-1xR           0.9905    0.9878     0.9929  0.9903\n",
       "MultinomialNB-1xR       0.9724    0.9675     0.9760  0.9716\n",
       "LinearSVC-1xR-CV        0.9901    0.9903     0.9901  0.9901\n",
       "MultinomialNB-1xR-CV    0.9678    0.9681     0.9678  0.9676"
      ]
     },
     "execution_count": 15,
     "metadata": {},
     "output_type": "execute_result"
    }
   ],
   "source": [
    "resultado = pd.DataFrame(dados.metricas)\n",
    "resultado.transpose()"
   ]
  },
  {
   "cell_type": "code",
   "execution_count": 16,
   "metadata": {},
   "outputs": [],
   "source": [
    "#print(resultado.transpose().to_latex())"
   ]
  },
  {
   "cell_type": "markdown",
   "metadata": {},
   "source": [
    "### Matriz de Confusão para o classificador LinearSVC com Cross-Validation"
   ]
  },
  {
   "cell_type": "code",
   "execution_count": 17,
   "metadata": {},
   "outputs": [
    {
     "data": {
      "image/png": "[encoded data removed]",
      "text/plain": [
       "<Figure size 1440x864 with 2 Axes>"
      ]
     },
     "metadata": {
      "needs_background": "light"
     },
     "output_type": "display_data"
    }
   ],
   "source": [
    "clf = t.buscar_modelo('LinearSVC-1xR-CV')\n",
    "clf.plotar_matriz_confusao(dados.labels)\n"
   ]
  },
  {
   "cell_type": "markdown",
   "metadata": {},
   "source": [
    "## Persistindo o modelo treinado"
   ]
  },
  {
   "cell_type": "markdown",
   "metadata": {},
   "source": [
    "### Retreinando o modelo para o conjunto completo de dados"
   ]
  },
  {
   "cell_type": "code",
   "execution_count": 18,
   "metadata": {},
   "outputs": [],
   "source": [
    "clf.treinar_sem_split(dados.X, dados.y)"
   ]
  },
  {
   "cell_type": "code",
   "execution_count": 19,
   "metadata": {},
   "outputs": [
    {
     "name": "stderr",
     "output_type": "stream",
     "text": [
      "10:27:14 - Salvando modelo treinado para o tipo ADE...\n",
      "10:27:14 - Modelo salvo em ./modelos/classificador-segmentos-ade.mdl.\n"
     ]
    }
   ],
   "source": [
    "pm = PersistenciaModelo(tipo_ato)\n",
    "pm.salvar_modelo(clf.estimador)"
   ]
  }
 ],
 "metadata": {
  "interpreter": {
   "hash": "c0ba501da4f5865c0ccc16fe492ffc700ae7ee2aea18452c05d7a5601d12d539"
  },
  "kernelspec": {
   "display_name": "Python 3.6.9 64-bit ('.env': venv)",
   "name": "python3"
  },
  "language_info": {
   "codemirror_mode": {
    "name": "ipython",
    "version": 3
   },
   "file_extension": ".py",
   "mimetype": "text/x-python",
   "name": "python",
   "nbconvert_exporter": "python",
   "pygments_lexer": "ipython3",
   "version": "3.6.9"
  },
  "orig_nbformat": 4
 },
 "nbformat": 4,
 "nbformat_minor": 2
}
