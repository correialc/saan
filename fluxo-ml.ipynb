{
 "cells": [
  {
   "cell_type": "code",
   "execution_count": 1,
   "metadata": {},
   "outputs": [],
   "source": [
    "import pandas as pd\n",
    "\n",
    "from fluxo.dados import Dados\n",
    "from fluxo.carga_dados import CargaDados\n",
    "from fluxo.limpeza_dados import LimpezaDados\n",
    "from fluxo.preprocessamento import Preprocessamento\n",
    "from fluxo.extracao_caracteristicas import ExtracaoCaracteristicas\n",
    "from fluxo.treinamento import Treinamento\n",
    "from fluxo.classificador import Classificador\n",
    "from fluxo.persistencia_modelo import PersistenciaModelo\n",
    "\n",
    "from sklearn.multiclass import OneVsRestClassifier, OneVsOneClassifier\n",
    "from sklearn.svm import LinearSVC\n",
    "from sklearn.naive_bayes import MultinomialNB\n",
    "from sklearn.metrics import accuracy_score, f1_score, precision_score, recall_score\n",
    "\n",
    "import joblib"
   ]
  },
  {
   "cell_type": "code",
   "execution_count": 2,
   "metadata": {},
   "outputs": [],
   "source": [
    "pd.set_option('max_colwidth', 180)"
   ]
  },
  {
   "cell_type": "code",
   "execution_count": 3,
   "metadata": {},
   "outputs": [],
   "source": [
    "# Definição do tipo de ato\n",
    "# Valores válidos: 'ADE', 'SC' ou 'Port.'\n",
    "# O valor desta variável influencia todo o comportamento deste notebook\n",
    "tipo_ato = 'ADE'"
   ]
  },
  {
   "cell_type": "markdown",
   "metadata": {},
   "source": [
    "## Carga de Dados"
   ]
  },
  {
   "cell_type": "code",
   "execution_count": 4,
   "metadata": {},
   "outputs": [],
   "source": [
    "dados = Dados()"
   ]
  },
  {
   "cell_type": "code",
   "execution_count": 5,
   "metadata": {},
   "outputs": [
    {
     "name": "stderr",
     "output_type": "stream",
     "text": [
      "17:38:45 - Carregando dados de segmentos...\n",
      "17:38:46 - 12013 registros carregados.\n"
     ]
    }
   ],
   "source": [
    "cg = CargaDados()\n",
    "cg.executar(dados)"
   ]
  },
  {
   "cell_type": "markdown",
   "metadata": {},
   "source": [
    "## Limpeza de Dados"
   ]
  },
  {
   "cell_type": "code",
   "execution_count": 6,
   "metadata": {},
   "outputs": [
    {
     "name": "stderr",
     "output_type": "stream",
     "text": [
      "17:38:46 - (Re)Carregando segmentos originais...\n",
      "17:38:46 - Removendo segmentos nulos...\n",
      "17:38:46 - 15 segmentos nulos excluídos.\n",
      "17:38:46 - Restaram 11998 segmentos não nulos.\n",
      "17:38:46 - Removendo todos os segmentos do tipo Anexo...\n",
      "17:38:46 - 302 segmentos do tipo Anexo excluídos.\n",
      "17:38:46 - Determinando tipos de segmento (labels) para atos do tipo ADE...\n",
      "17:38:46 - Tipos de segmento para atos ADE: ['Ementa', 'Fecho', 'Não Identificado']\n",
      "17:38:46 - Excluindo segmentos dos atos que não são ADE...\n",
      "17:38:46 - 5558 segmentos de atos não ADE excluídos.\n",
      "17:38:46 - Restaram 6138 segmentos de atos ADE.\n",
      "17:38:46 - Removendo segmentos não representativos para o tipo ADE...\n",
      "17:38:46 - 105 segmentos não representativos excluídos.\n",
      "17:38:46 - Restaram 6033 segmentos representativos.\n",
      "17:38:46 - Removendo tags HTML...\n",
      "17:38:46 - Removendo caracteres de escape HTML...\n",
      "17:38:46 - Reclassificando segmentos não identificados...\n",
      "/home/91872936504/devx/saan/.env/lib/python3.6/site-packages/pandas/core/strings.py:2001: UserWarning: This pattern has match groups. To actually get the groups, use str.extract.\n",
      "  return func(self, *args, **kwargs)\n",
      "17:38:46 - 59 segmentos reclassificados como Artigo.\n",
      "17:38:46 - 0 segmentos reclassificados como Inciso.\n",
      "17:38:46 - Removendo segmentos classificados através de REGEX...\n",
      "17:38:46 - Foram excluídos 2509 segmentos classificados por REGEX.\n",
      "17:38:46 - Restaram 3524 segmentos.\n",
      "17:38:46 - Limpeza de dados concluída.\n"
     ]
    }
   ],
   "source": [
    "lp = LimpezaDados(dados)\n",
    "lp.executar(dados, tipo_ato, reclassificar_nao_identificados=True)"
   ]
  },
  {
   "cell_type": "markdown",
   "metadata": {},
   "source": [
    "## Preprocessamento"
   ]
  },
  {
   "cell_type": "code",
   "execution_count": 7,
   "metadata": {},
   "outputs": [
    {
     "name": "stderr",
     "output_type": "stream",
     "text": [
      "[nltk_data] Downloading package stopwords to\n",
      "[nltk_data]     /home/91872936504/nltk_data...\n",
      "[nltk_data]   Unzipping corpora/stopwords.zip.\n",
      "17:38:46 - Convertendo caracteres para minúsculo...\n",
      "17:38:46 - Removendo pontuação...\n",
      "17:38:47 - Realizando tokenização...\n",
      "17:38:47 - Removendo stopwords...\n",
      "17:38:47 - Removendo tokens menores que 2 caracteres...\n",
      "17:38:47 - Reconstruindo texto a partir dos tokens...\n",
      "17:38:47 - Preprocessamento concluído.\n"
     ]
    }
   ],
   "source": [
    "pp = Preprocessamento()\n",
    "pp.executar(dados)"
   ]
  },
  {
   "cell_type": "markdown",
   "metadata": {},
   "source": [
    "## Extração de Características"
   ]
  },
  {
   "cell_type": "code",
   "execution_count": 8,
   "metadata": {},
   "outputs": [
    {
     "name": "stderr",
     "output_type": "stream",
     "text": [
      "17:38:47 - Executando vetorização TF-IDF...\n",
      "17:38:47 - Executando vetorização TF-IDF para Cross-Validation...\n",
      "17:38:47 - Extração de características concluída.\n"
     ]
    }
   ],
   "source": [
    "ec = ExtracaoCaracteristicas(dados)\n",
    "ec.executar(dados, oversampling=True)"
   ]
  },
  {
   "cell_type": "markdown",
   "metadata": {},
   "source": [
    "## Treinamento e Teste"
   ]
  },
  {
   "cell_type": "code",
   "execution_count": 9,
   "metadata": {},
   "outputs": [],
   "source": [
    "t = Treinamento()"
   ]
  },
  {
   "cell_type": "code",
   "execution_count": 10,
   "metadata": {},
   "outputs": [],
   "source": [
    "# Linear SVC (SVM)\n",
    "estimadorSVC = LinearSVC(random_state=dados.random_state)\n",
    "t.adicionar_modelo(Classificador('LinearSVC-1xR', estimadorSVC))\n",
    "\n",
    "# Multinomial Naive Bayes \n",
    "estimadorNB = OneVsRestClassifier(MultinomialNB())\n",
    "t.adicionar_modelo(Classificador('MultinomialNB-1xR', estimadorNB))"
   ]
  },
  {
   "cell_type": "code",
   "execution_count": 11,
   "metadata": {},
   "outputs": [
    {
     "name": "stderr",
     "output_type": "stream",
     "text": [
      "17:38:47 - Treinando modelo LinearSVC-1xR...\n",
      "17:38:47 - Treinamento do modelo LinearSVC-1xR concluído.\n",
      "17:38:47 - Treinando modelo MultinomialNB-1xR...\n",
      "17:38:47 - Treinamento do modelo MultinomialNB-1xR concluído.\n"
     ]
    }
   ],
   "source": [
    "t.treinar_modelos(dados)"
   ]
  },
  {
   "cell_type": "markdown",
   "metadata": {},
   "source": [
    "## Treinamento e Teste com Cross-Validation"
   ]
  },
  {
   "cell_type": "code",
   "execution_count": 12,
   "metadata": {},
   "outputs": [],
   "source": [
    "t = Treinamento()"
   ]
  },
  {
   "cell_type": "code",
   "execution_count": 13,
   "metadata": {},
   "outputs": [],
   "source": [
    "# Linear SVC (SVM)\n",
    "estimadorSVC_CV = LinearSVC(random_state=dados.random_state)\n",
    "t.adicionar_modelo(Classificador('LinearSVC-1xR-CV', estimadorSVC_CV))\n",
    "\n",
    "# Multinomial Naive Bayes \n",
    "estimadorNB_CV = OneVsRestClassifier(MultinomialNB())\n",
    "t.adicionar_modelo(Classificador('MultinomialNB-1xR-CV', estimadorNB_CV))"
   ]
  },
  {
   "cell_type": "code",
   "execution_count": 14,
   "metadata": {},
   "outputs": [
    {
     "name": "stderr",
     "output_type": "stream",
     "text": [
      "17:38:47 - Treinando modelo LinearSVC-1xR-CV com cross-validation...\n",
      "17:38:48 - Treinamento do modelo LinearSVC-1xR-CV com cross-validation concluído.\n",
      "17:38:48 - Treinando modelo MultinomialNB-1xR-CV com cross-validation...\n",
      "17:38:48 - Treinamento do modelo MultinomialNB-1xR-CV com cross-validation concluído.\n"
     ]
    }
   ],
   "source": [
    "t.treinar_modelos(dados, cv=5)"
   ]
  },
  {
   "cell_type": "markdown",
   "metadata": {},
   "source": [
    "## Apresentação de Resultados"
   ]
  },
  {
   "cell_type": "code",
   "execution_count": 15,
   "metadata": {},
   "outputs": [
    {
     "data": {
      "text/html": [
       "<div>\n",
       "<style scoped>\n",
       "    .dataframe tbody tr th:only-of-type {\n",
       "        vertical-align: middle;\n",
       "    }\n",
       "\n",
       "    .dataframe tbody tr th {\n",
       "        vertical-align: top;\n",
       "    }\n",
       "\n",
       "    .dataframe thead th {\n",
       "        text-align: right;\n",
       "    }\n",
       "</style>\n",
       "<table border=\"1\" class=\"dataframe\">\n",
       "  <thead>\n",
       "    <tr style=\"text-align: right;\">\n",
       "      <th></th>\n",
       "      <th>acuracia</th>\n",
       "      <th>precisao</th>\n",
       "      <th>revocacao</th>\n",
       "      <th>f1</th>\n",
       "    </tr>\n",
       "  </thead>\n",
       "  <tbody>\n",
       "    <tr>\n",
       "      <th>LinearSVC-1xR</th>\n",
       "      <td>0.9688</td>\n",
       "      <td>0.9620</td>\n",
       "      <td>0.9739</td>\n",
       "      <td>0.9672</td>\n",
       "    </tr>\n",
       "    <tr>\n",
       "      <th>MultinomialNB-1xR</th>\n",
       "      <td>0.9461</td>\n",
       "      <td>0.9395</td>\n",
       "      <td>0.9466</td>\n",
       "      <td>0.9429</td>\n",
       "    </tr>\n",
       "    <tr>\n",
       "      <th>LinearSVC-1xR-CV</th>\n",
       "      <td>0.9614</td>\n",
       "      <td>0.9668</td>\n",
       "      <td>0.9614</td>\n",
       "      <td>0.9609</td>\n",
       "    </tr>\n",
       "    <tr>\n",
       "      <th>MultinomialNB-1xR-CV</th>\n",
       "      <td>0.9359</td>\n",
       "      <td>0.9373</td>\n",
       "      <td>0.9359</td>\n",
       "      <td>0.9353</td>\n",
       "    </tr>\n",
       "  </tbody>\n",
       "</table>\n",
       "</div>"
      ],
      "text/plain": [
       "                      acuracia  precisao  revocacao      f1\n",
       "LinearSVC-1xR           0.9688    0.9620     0.9739  0.9672\n",
       "MultinomialNB-1xR       0.9461    0.9395     0.9466  0.9429\n",
       "LinearSVC-1xR-CV        0.9614    0.9668     0.9614  0.9609\n",
       "MultinomialNB-1xR-CV    0.9359    0.9373     0.9359  0.9353"
      ]
     },
     "execution_count": 15,
     "metadata": {},
     "output_type": "execute_result"
    }
   ],
   "source": [
    "resultado = pd.DataFrame(dados.metricas)\n",
    "resultado.transpose()"
   ]
  },
  {
   "cell_type": "code",
   "execution_count": 16,
   "metadata": {},
   "outputs": [
    {
     "name": "stdout",
     "output_type": "stream",
     "text": [
      "\\begin{tabular}{lrrrr}\n",
      "\\toprule\n",
      "{} &  acuracia &  precisao &  revocacao &      f1 \\\\\n",
      "\\midrule\n",
      "LinearSVC-1xR        &    0.9688 &    0.9620 &     0.9739 &  0.9672 \\\\\n",
      "MultinomialNB-1xR    &    0.9461 &    0.9395 &     0.9466 &  0.9429 \\\\\n",
      "LinearSVC-1xR-CV     &    0.9614 &    0.9668 &     0.9614 &  0.9609 \\\\\n",
      "MultinomialNB-1xR-CV &    0.9359 &    0.9373 &     0.9359 &  0.9353 \\\\\n",
      "\\bottomrule\n",
      "\\end{tabular}\n",
      "\n"
     ]
    }
   ],
   "source": [
    "print(resultado.transpose().to_latex())"
   ]
  },
  {
   "cell_type": "code",
   "execution_count": 17,
   "metadata": {},
   "outputs": [
    {
     "data": {
      "image/png": "[encoded data removed]",
      "text/plain": [
       "<Figure size 1440x864 with 2 Axes>"
      ]
     },
     "metadata": {
      "needs_background": "light"
     },
     "output_type": "display_data"
    }
   ],
   "source": [
    "clf = Classificador('LinearSVC-1xR-CV', estimadorSVC_CV)\n",
    "clf.treinar_com_cv(dados, cv=5)\n",
    "clf.plotar_matriz_confusao(dados)"
   ]
  },
  {
   "cell_type": "markdown",
   "metadata": {},
   "source": [
    "## Persistindo o modelo treinado"
   ]
  },
  {
   "cell_type": "code",
   "execution_count": 18,
   "metadata": {},
   "outputs": [
    {
     "name": "stderr",
     "output_type": "stream",
     "text": [
      "17:38:49 - Salvando modelo treinado para o tipo ADE...\n",
      "17:38:49 - Modelo salvo em ./modelos/classificador-segmentos-ade.mdl.\n"
     ]
    }
   ],
   "source": [
    "pm = PersistenciaModelo('ADE')\n",
    "pm.salvar_modelo(estimadorSVC_CV)"
   ]
  },
  {
   "cell_type": "code",
   "execution_count": 19,
   "metadata": {},
   "outputs": [],
   "source": [
    "df_seg2021 = pd.read_csv('./dados/extracao-segmentos-atos-2021.csv', delimiter='|', \n",
    "                        names=['id_ato', 'data_pub', 'tipo_ato', 'id_seg', 'tipo_seg', 'txt_seg'], \n",
    "                        quotechar=\"'\")"
   ]
  },
  {
   "cell_type": "code",
   "execution_count": 21,
   "metadata": {},
   "outputs": [],
   "source": [
    "def classificar_seg(seg):\n",
    "    return estimadorSVC_CV.predict(seg)"
   ]
  }
 ],
 "metadata": {
  "interpreter": {
   "hash": "c0ba501da4f5865c0ccc16fe492ffc700ae7ee2aea18452c05d7a5601d12d539"
  },
  "kernelspec": {
   "display_name": "Python 3.6.9 64-bit ('.env': venv)",
   "name": "python3"
  },
  "language_info": {
   "codemirror_mode": {
    "name": "ipython",
    "version": 3
   },
   "file_extension": ".py",
   "mimetype": "text/x-python",
   "name": "python",
   "nbconvert_exporter": "python",
   "pygments_lexer": "ipython3",
   "version": "3.6.9"
  },
  "orig_nbformat": 4
 },
 "nbformat": 4,
 "nbformat_minor": 2
}
