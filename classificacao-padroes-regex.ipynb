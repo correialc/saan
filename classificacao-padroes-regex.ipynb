{
 "cells": [
  {
   "cell_type": "code",
   "execution_count": 1,
   "source": [
    "import pandas as pd\n",
    "import re\n",
    "\n",
    "from fluxo.dados import Dados\n",
    "from fluxo.carga_dados import CargaDados\n",
    "from fluxo.limpeza_dados import LimpezaDados\n",
    "\n",
    "from sklearn.metrics import accuracy_score, f1_score, precision_score, recall_score"
   ],
   "outputs": [],
   "metadata": {}
  },
  {
   "cell_type": "code",
   "execution_count": 2,
   "source": [
    "tipo_ato = 'SC'\n",
    "dados = Dados()\n",
    "cg = CargaDados()\n",
    "cg.executar(dados)\n",
    "\n",
    "lp = LimpezaDados(dados)\n",
    "lp.executar(dados, tipo_ato, reclassificar_nao_identificados=True)"
   ],
   "outputs": [
    {
     "output_type": "stream",
     "name": "stderr",
     "text": [
      "16:04:39 - Carregando dados de segmentos...\n",
      "16:04:39 - 206488 registros carregados.\n",
      "16:04:39 - (Re)Carregando segmentos originais...\n",
      "16:04:39 - Removendo segmentos nulos...\n",
      "16:04:39 - 1900 segmentos nulos excluídos.\n",
      "16:04:39 - Restaram 204588 segmentos não nulos.\n",
      "16:04:39 - Removendo todos os segmentos do tipo Anexo...\n",
      "16:04:40 - 5771 segmentos do tipo Anexo excluídos.\n",
      "16:04:40 - Determinando tipos de segmento (labels) para atos do tipo SC...\n",
      "16:04:40 - Tipos de segmento para atos SC: ['Ementa', 'Fecho', 'Não Identificado']\n",
      "16:04:40 - Excluindo segmentos dos atos que não são SC...\n",
      "16:04:40 - 188070 segmentos de atos não SC excluídos.\n",
      "16:04:40 - Restaram 10747 segmentos de atos SC.\n",
      "16:04:40 - Removendo segmentos não representativos para o tipo SC...\n",
      "16:04:40 - 100 segmentos não representativos excluídos.\n",
      "16:04:40 - Restaram 10647 segmentos representativos.\n",
      "16:04:40 - Removendo tags HTML...\n",
      "16:04:40 - Removendo caracteres de escape HTML...\n",
      "16:04:40 - Reclassificando segmentos não identificados...\n",
      "16:04:40 - Limpeza de dados concluída.\n"
     ]
    }
   ],
   "metadata": {}
  },
  {
   "cell_type": "code",
   "execution_count": 3,
   "source": [
    "df = dados.limp\n",
    "#df[df['tipo_seg']=='Artigo'].sample(10)"
   ],
   "outputs": [],
   "metadata": {}
  },
  {
   "cell_type": "code",
   "execution_count": 4,
   "source": [
    "def classificar_por_padroes(texto_segmento):\n",
    "\n",
    "    padrao = {\n",
    "        'Artigo'    : '^\"{0,1}\\s*(Art|ART)\\.\\s*',\n",
    "        'Alínea'    : '^(\\s*)([a-z]\\))',\n",
    "        'Inciso'    : '^(\\s*)M{0,4}(CM|CD|D?C{0,3})(XC|XL|L?X{0,3})(IX|IV|V?I{0,3})(\\s-|\\s–)',\n",
    "        'Parágrafo' : '^(\\s*)(§|Parágrafo|Paragrafo)'\n",
    "    }\n",
    "\n",
    "    for label in dados.labels:\n",
    "        if label in padrao.keys():\n",
    "            if re.match(padrao[label], str(texto_segmento)): \n",
    "                return label\n",
    "       \n",
    "    return 'Outro'"
   ],
   "outputs": [],
   "metadata": {}
  },
  {
   "cell_type": "code",
   "execution_count": 5,
   "source": [
    "df['tipo_seg_regex'] = df['txt_seg'].apply(classificar_por_padroes)"
   ],
   "outputs": [],
   "metadata": {}
  },
  {
   "cell_type": "code",
   "execution_count": 6,
   "source": [
    "#df[(df['tipo_seg']!=df['tipo_seg_regex'])&(df['tipo_seg']=='Inciso')]"
   ],
   "outputs": [],
   "metadata": {}
  },
  {
   "cell_type": "code",
   "execution_count": 7,
   "source": [
    "#df['tipo_seg'].value_counts()\n",
    "#df['tipo_seg_regex'].value_counts()"
   ],
   "outputs": [],
   "metadata": {}
  },
  {
   "cell_type": "code",
   "execution_count": 8,
   "source": [
    "#padrao = '^(\\s*)M{0,4}(CM|CD|D?C{0,3})(XC|XL|L?X{0,3})(IX|IV|V?I{0,3})(\\s-|\\s–)'\n",
    "#df[df['txt_seg'].str.contains(padrao)]['id_seg'].count()"
   ],
   "outputs": [],
   "metadata": {}
  },
  {
   "cell_type": "markdown",
   "source": [
    "## Reclassificar como **Outro** os segmentos de atos não classificados por REGEX"
   ],
   "metadata": {}
  },
  {
   "cell_type": "code",
   "execution_count": 9,
   "source": [
    "df.loc[~df['tipo_seg'].isin(['Artigo', 'Alínea', 'Parágrafo', 'Inciso']), 'tipo_seg'] = 'Outro'"
   ],
   "outputs": [],
   "metadata": {}
  },
  {
   "cell_type": "code",
   "execution_count": 10,
   "source": [
    "df['tipo_seg_regex'].unique()"
   ],
   "outputs": [
    {
     "output_type": "execute_result",
     "data": {
      "text/plain": [
       "array(['Outro'], dtype=object)"
      ]
     },
     "metadata": {},
     "execution_count": 10
    }
   ],
   "metadata": {}
  },
  {
   "cell_type": "markdown",
   "source": [
    "## Preparar conjunto real e predito"
   ],
   "metadata": {}
  },
  {
   "cell_type": "code",
   "execution_count": 11,
   "source": [
    "y = df['tipo_seg'].to_list()\n",
    "y_pred = df['tipo_seg_regex'].to_list()"
   ],
   "outputs": [],
   "metadata": {}
  },
  {
   "cell_type": "code",
   "execution_count": 12,
   "source": [
    "precision = round(precision_score(y, y_pred, average='macro'),4)             \n",
    "recall = round(recall_score(y, y_pred, average='macro'),4)\n",
    "f1 = round(f1_score(y, y_pred, average='macro'),4)\n",
    "accuracy = round(accuracy_score(y, y_pred),4)"
   ],
   "outputs": [],
   "metadata": {}
  },
  {
   "cell_type": "code",
   "execution_count": 13,
   "source": [
    "print(f'Acurácia: {accuracy}')\n",
    "print(f'Precision: {precision}')\n",
    "print(f'Recall: {recall}')\n",
    "print(f'F1 Score: {f1}')"
   ],
   "outputs": [
    {
     "output_type": "stream",
     "name": "stdout",
     "text": [
      "Acurácia: 1.0\n",
      "Precision: 1.0\n",
      "Recall: 1.0\n",
      "F1 Score: 1.0\n"
     ]
    }
   ],
   "metadata": {}
  }
 ],
 "metadata": {
  "orig_nbformat": 4,
  "language_info": {
   "name": "python",
   "version": "3.6.9",
   "mimetype": "text/x-python",
   "codemirror_mode": {
    "name": "ipython",
    "version": 3
   },
   "pygments_lexer": "ipython3",
   "nbconvert_exporter": "python",
   "file_extension": ".py"
  },
  "kernelspec": {
   "name": "python3",
   "display_name": "Python 3.6.9 64-bit ('.env': venv)"
  },
  "interpreter": {
   "hash": "6855027362948c6f36049d9a66887dd54609243653252d410b677972185fc71a"
  }
 },
 "nbformat": 4,
 "nbformat_minor": 2
}