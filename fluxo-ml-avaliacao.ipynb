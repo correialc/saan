{
 "cells": [
  {
   "cell_type": "code",
   "execution_count": 1,
   "metadata": {},
   "outputs": [],
   "source": [
    "import pandas as pd\n",
    "from matplotlib import pyplot as plt\n",
    "\n",
    "from sklearn.metrics import accuracy_score, f1_score, precision_score, recall_score\n",
    "from sklearn.metrics import confusion_matrix, ConfusionMatrixDisplay\n",
    "\n",
    "from fluxo.dados import Dados\n",
    "from fluxo.carga_dados import CargaDados\n",
    "from fluxo.classificador_segmentos import ClassificadorSegmentos"
   ]
  },
  {
   "cell_type": "code",
   "execution_count": 2,
   "metadata": {},
   "outputs": [],
   "source": [
    "pd.set_option('max_colwidth', 180)"
   ]
  },
  {
   "cell_type": "code",
   "execution_count": 3,
   "metadata": {},
   "outputs": [],
   "source": [
    "# Definição do tipo de ato\n",
    "# Valores válidos: 'ADE', 'SC' ou 'Port.'\n",
    "# O valor desta variável influencia todo o comportamento deste notebook\n",
    "tipo_ato = 'Port.'"
   ]
  },
  {
   "cell_type": "markdown",
   "metadata": {},
   "source": [
    "## Carga de dados desconhecidos ao modelo treinado"
   ]
  },
  {
   "cell_type": "code",
   "execution_count": 4,
   "metadata": {},
   "outputs": [
    {
     "name": "stderr",
     "output_type": "stream",
     "text": [
      "11:05:45 - Carregando dados de segmentos...\n",
      "11:05:45 - 12013 registros carregados.\n"
     ]
    }
   ],
   "source": [
    "dados = Dados()\n",
    "cg = CargaDados(path_dados_seg='./dados/extracao-segmentos-atos-2021.csv')\n",
    "cg.executar(dados)"
   ]
  },
  {
   "cell_type": "markdown",
   "metadata": {},
   "source": [
    "## Execução do pipeline de NLP"
   ]
  },
  {
   "cell_type": "code",
   "execution_count": 5,
   "metadata": {},
   "outputs": [
    {
     "name": "stderr",
     "output_type": "stream",
     "text": [
      "11:05:45 - Carregando modelo treinado para o tipo ADE...\n",
      "11:05:45 - Carregando modelo treinado para o tipo SC...\n",
      "11:05:45 - Carregando modelo treinado para o tipo Port....\n",
      "11:05:45 - Carregando vetorizador treinado para o tipo ADE...\n",
      "11:05:46 - Carregando vetorizador treinado para o tipo SC...\n",
      "11:05:46 - Carregando vetorizador treinado para o tipo Port....\n"
     ]
    }
   ],
   "source": [
    "clf_seg = ClassificadorSegmentos()"
   ]
  },
  {
   "cell_type": "code",
   "execution_count": 6,
   "metadata": {},
   "outputs": [
    {
     "name": "stderr",
     "output_type": "stream",
     "text": [
      "11:05:46 - (Re)Carregando segmentos originais...\n",
      "11:05:46 - Removendo segmentos nulos...\n",
      "11:05:46 - 15 segmentos nulos excluídos.\n",
      "11:05:46 - Restaram 11998 segmentos não nulos.\n",
      "11:05:46 - Removendo todos os segmentos do tipo Anexo...\n",
      "11:05:46 - 302 segmentos do tipo Anexo excluídos.\n",
      "11:05:46 - Determinando tipos de segmento (labels) para atos do tipo Port....\n",
      "11:05:46 - Tipos de segmento para atos Port.: ['Ementa', 'Fecho', 'Não Identificado']\n",
      "11:05:46 - Excluindo segmentos dos atos que não são Port....\n",
      "11:05:46 - 7380 segmentos de atos não Port. excluídos.\n",
      "11:05:46 - Restaram 4316 segmentos de atos Port..\n",
      "11:05:46 - Removendo segmentos não representativos para o tipo Port....\n",
      "11:05:46 - 256 segmentos não representativos excluídos.\n",
      "11:05:46 - Restaram 4060 segmentos representativos.\n",
      "11:05:46 - Removendo tags HTML...\n",
      "11:05:46 - Removendo caracteres de escape HTML...\n",
      "11:05:46 - Reclassificando segmentos não identificados...\n",
      "/home/91872936504/devx/saan/.env/lib/python3.6/site-packages/pandas/core/strings.py:2001: UserWarning: This pattern has match groups. To actually get the groups, use str.extract.\n",
      "  return func(self, *args, **kwargs)\n",
      "11:05:46 - 36 segmentos reclassificados como Artigo.\n",
      "11:05:46 - 1 segmentos reclassificados como Inciso.\n",
      "11:05:46 - 0 segmentos reclassificados como Alínea.\n",
      "11:05:46 - 1 segmentos reclassificados como Parágrafo.\n",
      "11:05:46 - Removendo segmentos classificados através de REGEX...\n",
      "11:05:46 - Foram excluídos 3073 segmentos classificados por REGEX.\n",
      "11:05:46 - Restaram 987 segmentos.\n",
      "11:05:46 - Limpeza de dados concluída.\n",
      "[nltk_data] Downloading package stopwords to\n",
      "[nltk_data]     /home/91872936504/nltk_data...\n",
      "[nltk_data]   Package stopwords is already up-to-date!\n",
      "11:05:46 - Convertendo caracteres para minúsculo...\n",
      "11:05:46 - Removendo pontuação...\n",
      "11:05:46 - Realizando tokenização...\n",
      "11:05:46 - Removendo stopwords...\n",
      "11:05:47 - Removendo tokens menores que 2 caracteres...\n",
      "11:05:47 - Reconstruindo texto a partir dos tokens...\n",
      "11:05:47 - Preprocessamento concluído.\n",
      "11:05:47 - Classificando segmentos...\n",
      "11:05:47 - Classificação concluída.\n"
     ]
    }
   ],
   "source": [
    "df_predicao = clf_seg.classificar_segmentos(tipo_ato, dados)"
   ]
  },
  {
   "cell_type": "markdown",
   "metadata": {},
   "source": [
    "### Cálculo das métricas de desempenho do modelo"
   ]
  },
  {
   "cell_type": "code",
   "execution_count": 7,
   "metadata": {},
   "outputs": [
    {
     "data": {
      "text/plain": [
       "{'acuracia': 0.9463, 'precisao': 0.9164, 'revocacao': 0.9421, 'f1': 0.9229}"
      ]
     },
     "execution_count": 7,
     "metadata": {},
     "output_type": "execute_result"
    }
   ],
   "source": [
    "metricas = dict()\n",
    "metricas['acuracia'] = round(accuracy_score(df_predicao['tipo_seg'], df_predicao['tipo_seg_pred']),4)\n",
    "metricas['precisao'] = round(precision_score(df_predicao['tipo_seg'], df_predicao['tipo_seg_pred'], pos_label=1, average='macro'),4)\n",
    "metricas['revocacao'] = round(recall_score(df_predicao['tipo_seg'], df_predicao['tipo_seg_pred'], pos_label=1, average='macro'), 4)\n",
    "metricas['f1'] = round(f1_score(df_predicao['tipo_seg'], df_predicao['tipo_seg_pred'], pos_label=1, average='macro'),4)\n",
    "metricas"
   ]
  },
  {
   "cell_type": "code",
   "execution_count": 8,
   "metadata": {},
   "outputs": [
    {
     "data": {
      "text/plain": [
       "<sklearn.metrics._plot.confusion_matrix.ConfusionMatrixDisplay at 0x7fc128ad6eb8>"
      ]
     },
     "execution_count": 8,
     "metadata": {},
     "output_type": "execute_result"
    },
    {
     "data": {
      "image/png": "[encoded data removed]",
      "text/plain": [
       "<Figure size 1440x864 with 2 Axes>"
      ]
     },
     "metadata": {
      "needs_background": "light"
     },
     "output_type": "display_data"
    }
   ],
   "source": [
    "matriz_confusao = confusion_matrix(df_predicao['tipo_seg'], df_predicao['tipo_seg_pred'], labels=dados.labels)\n",
    "plt.rcParams.update({'font.size': 14})\n",
    "fig, ax = plt.subplots(figsize=(20,12))\n",
    "        \n",
    "disp = ConfusionMatrixDisplay(confusion_matrix=matriz_confusao, display_labels=dados.labels)\n",
    "disp.plot(cmap='Blues', ax=ax)"
   ]
  },
  {
   "cell_type": "code",
   "execution_count": null,
   "metadata": {},
   "outputs": [],
   "source": []
  }
 ],
 "metadata": {
  "interpreter": {
   "hash": "c0ba501da4f5865c0ccc16fe492ffc700ae7ee2aea18452c05d7a5601d12d539"
  },
  "kernelspec": {
   "display_name": "Python 3.6.9 64-bit ('.env': venv)",
   "name": "python3"
  },
  "language_info": {
   "codemirror_mode": {
    "name": "ipython",
    "version": 3
   },
   "file_extension": ".py",
   "mimetype": "text/x-python",
   "name": "python",
   "nbconvert_exporter": "python",
   "pygments_lexer": "ipython3",
   "version": "3.6.9"
  },
  "orig_nbformat": 4
 },
 "nbformat": 4,
 "nbformat_minor": 2
}
