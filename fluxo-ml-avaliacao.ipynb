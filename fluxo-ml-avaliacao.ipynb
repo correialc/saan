{
 "cells": [
  {
   "cell_type": "code",
   "execution_count": 17,
   "metadata": {},
   "outputs": [],
   "source": [
    "import pandas as pd\n",
    "\n",
    "from fluxo.dados import Dados\n",
    "from fluxo.carga_dados import CargaDados\n",
    "from classificador_segmentos import ClassificadorSegmentos"
   ]
  },
  {
   "cell_type": "code",
   "execution_count": 18,
   "metadata": {},
   "outputs": [],
   "source": [
    "pd.set_option('max_colwidth', 180)"
   ]
  },
  {
   "cell_type": "code",
   "execution_count": 19,
   "metadata": {},
   "outputs": [],
   "source": [
    "# Definição do tipo de ato\n",
    "# Valores válidos: 'ADE', 'SC' ou 'Port.'\n",
    "# O valor desta variável influencia todo o comportamento deste notebook\n",
    "tipo_ato = 'ADE'"
   ]
  },
  {
   "cell_type": "markdown",
   "metadata": {},
   "source": [
    "## Carga de dados desconhecidos ao modelo treinado"
   ]
  },
  {
   "cell_type": "code",
   "execution_count": 20,
   "metadata": {},
   "outputs": [
    {
     "name": "stderr",
     "output_type": "stream",
     "text": [
      "12:30:38 - Carregando dados de segmentos...\n",
      "12:30:38 - 12013 registros carregados.\n"
     ]
    }
   ],
   "source": [
    "dados = Dados()\n",
    "cg = CargaDados(path_dados_seg='./dados/extracao-segmentos-atos-2021.csv')\n",
    "cg.executar(dados)"
   ]
  },
  {
   "cell_type": "markdown",
   "metadata": {},
   "source": [
    "## Execução do pipeline de NLP"
   ]
  },
  {
   "cell_type": "code",
   "execution_count": 21,
   "metadata": {},
   "outputs": [
    {
     "name": "stderr",
     "output_type": "stream",
     "text": [
      "12:30:38 - Carregando modelo treinado para o tipo ADE...\n",
      "12:30:38 - Carregando modelo treinado para o tipo SC...\n",
      "12:30:38 - Carregando modelo treinado para o tipo Port....\n",
      "12:30:38 - Carregando vetorizador treinado para o tipo ADE...\n",
      "12:30:39 - Carregando vetorizador treinado para o tipo SC...\n",
      "12:30:39 - Carregando vetorizador treinado para o tipo Port....\n"
     ]
    }
   ],
   "source": [
    "clf_seg = ClassificadorSegmentos()"
   ]
  },
  {
   "cell_type": "code",
   "execution_count": 22,
   "metadata": {},
   "outputs": [
    {
     "name": "stderr",
     "output_type": "stream",
     "text": [
      "12:30:39 - (Re)Carregando segmentos originais...\n",
      "12:30:39 - Removendo segmentos nulos...\n",
      "12:30:39 - 15 segmentos nulos excluídos.\n",
      "12:30:39 - Restaram 11998 segmentos não nulos.\n",
      "12:30:39 - Removendo todos os segmentos do tipo Anexo...\n",
      "12:30:39 - 302 segmentos do tipo Anexo excluídos.\n",
      "12:30:39 - Determinando tipos de segmento (labels) para atos do tipo SC...\n",
      "12:30:39 - Tipos de segmento para atos SC: ['Ementa', 'Fecho', 'Não Identificado']\n",
      "12:30:39 - Excluindo segmentos dos atos que não são SC...\n",
      "12:30:39 - 11419 segmentos de atos não SC excluídos.\n",
      "12:30:39 - Restaram 277 segmentos de atos SC.\n",
      "12:30:39 - Removendo segmentos não representativos para o tipo SC...\n",
      "12:30:39 - 0 segmentos não representativos excluídos.\n",
      "12:30:39 - Restaram 277 segmentos representativos.\n",
      "12:30:39 - Removendo tags HTML...\n",
      "12:30:39 - Removendo caracteres de escape HTML...\n",
      "12:30:39 - Reclassificando segmentos não identificados...\n",
      "12:30:39 - Removendo segmentos classificados através de REGEX...\n",
      "12:30:39 - Foram excluídos 0 segmentos classificados por REGEX.\n",
      "12:30:39 - Restaram 277 segmentos.\n",
      "12:30:39 - Limpeza de dados concluída.\n",
      "[nltk_data] Downloading package stopwords to\n",
      "[nltk_data]     /home/91872936504/nltk_data...\n",
      "[nltk_data]   Package stopwords is already up-to-date!\n",
      "12:30:39 - Convertendo caracteres para minúsculo...\n",
      "12:30:39 - Removendo pontuação...\n",
      "12:30:39 - Realizando tokenização...\n",
      "12:30:39 - Removendo stopwords...\n",
      "12:30:39 - Removendo tokens menores que 2 caracteres...\n",
      "12:30:39 - Reconstruindo texto a partir dos tokens...\n",
      "12:30:39 - Preprocessamento concluído.\n",
      "12:30:39 - Classificando segmentos...\n",
      "12:30:39 - Classificação concluída.\n",
      "12:30:39 - Calculando métricas...\n",
      "12:30:39 - Métricas calculadas\n"
     ]
    }
   ],
   "source": [
    "df_predicao, metricas = clf_seg.classificar_segmentos(tipo_ato, dados)"
   ]
  },
  {
   "cell_type": "code",
   "execution_count": 23,
   "metadata": {},
   "outputs": [
    {
     "data": {
      "text/html": [
       "<div>\n",
       "<style scoped>\n",
       "    .dataframe tbody tr th:only-of-type {\n",
       "        vertical-align: middle;\n",
       "    }\n",
       "\n",
       "    .dataframe tbody tr th {\n",
       "        vertical-align: top;\n",
       "    }\n",
       "\n",
       "    .dataframe thead th {\n",
       "        text-align: right;\n",
       "    }\n",
       "</style>\n",
       "<table border=\"1\" class=\"dataframe\">\n",
       "  <thead>\n",
       "    <tr style=\"text-align: right;\">\n",
       "      <th></th>\n",
       "      <th>tipo_seg</th>\n",
       "      <th>tipo_seg_pred</th>\n",
       "    </tr>\n",
       "  </thead>\n",
       "  <tbody>\n",
       "    <tr>\n",
       "      <th>1114</th>\n",
       "      <td>Ementa</td>\n",
       "      <td>Ementa</td>\n",
       "    </tr>\n",
       "    <tr>\n",
       "      <th>1115</th>\n",
       "      <td>Fecho</td>\n",
       "      <td>Fecho</td>\n",
       "    </tr>\n",
       "    <tr>\n",
       "      <th>1117</th>\n",
       "      <td>Ementa</td>\n",
       "      <td>Ementa</td>\n",
       "    </tr>\n",
       "    <tr>\n",
       "      <th>1118</th>\n",
       "      <td>Fecho</td>\n",
       "      <td>Fecho</td>\n",
       "    </tr>\n",
       "    <tr>\n",
       "      <th>1120</th>\n",
       "      <td>Ementa</td>\n",
       "      <td>Ementa</td>\n",
       "    </tr>\n",
       "    <tr>\n",
       "      <th>...</th>\n",
       "      <td>...</td>\n",
       "      <td>...</td>\n",
       "    </tr>\n",
       "    <tr>\n",
       "      <th>11630</th>\n",
       "      <td>Fecho</td>\n",
       "      <td>Fecho</td>\n",
       "    </tr>\n",
       "    <tr>\n",
       "      <th>11804</th>\n",
       "      <td>Ementa</td>\n",
       "      <td>Ementa</td>\n",
       "    </tr>\n",
       "    <tr>\n",
       "      <th>11805</th>\n",
       "      <td>Fecho</td>\n",
       "      <td>Fecho</td>\n",
       "    </tr>\n",
       "    <tr>\n",
       "      <th>11807</th>\n",
       "      <td>Ementa</td>\n",
       "      <td>Ementa</td>\n",
       "    </tr>\n",
       "    <tr>\n",
       "      <th>11808</th>\n",
       "      <td>Fecho</td>\n",
       "      <td>Fecho</td>\n",
       "    </tr>\n",
       "  </tbody>\n",
       "</table>\n",
       "<p>277 rows × 2 columns</p>\n",
       "</div>"
      ],
      "text/plain": [
       "      tipo_seg tipo_seg_pred\n",
       "1114    Ementa        Ementa\n",
       "1115     Fecho         Fecho\n",
       "1117    Ementa        Ementa\n",
       "1118     Fecho         Fecho\n",
       "1120    Ementa        Ementa\n",
       "...        ...           ...\n",
       "11630    Fecho         Fecho\n",
       "11804   Ementa        Ementa\n",
       "11805    Fecho         Fecho\n",
       "11807   Ementa        Ementa\n",
       "11808    Fecho         Fecho\n",
       "\n",
       "[277 rows x 2 columns]"
      ]
     },
     "execution_count": 23,
     "metadata": {},
     "output_type": "execute_result"
    }
   ],
   "source": [
    "df_predicao[['tipo_seg','tipo_seg_pred']]"
   ]
  },
  {
   "cell_type": "code",
   "execution_count": 24,
   "metadata": {},
   "outputs": [
    {
     "data": {
      "text/plain": [
       "{'acuracia': 0.9964, 'precisao': 0.9583, 'revocacao': 0.9975, 'f1': 0.9765}"
      ]
     },
     "execution_count": 24,
     "metadata": {},
     "output_type": "execute_result"
    }
   ],
   "source": [
    "metricas"
   ]
  },
  {
   "cell_type": "code",
   "execution_count": null,
   "metadata": {},
   "outputs": [],
   "source": []
  }
 ],
 "metadata": {
  "interpreter": {
   "hash": "c0ba501da4f5865c0ccc16fe492ffc700ae7ee2aea18452c05d7a5601d12d539"
  },
  "kernelspec": {
   "display_name": "Python 3.6.9 64-bit ('.env': venv)",
   "name": "python3"
  },
  "language_info": {
   "codemirror_mode": {
    "name": "ipython",
    "version": 3
   },
   "file_extension": ".py",
   "mimetype": "text/x-python",
   "name": "python",
   "nbconvert_exporter": "python",
   "pygments_lexer": "ipython3",
   "version": "3.6.9"
  },
  "orig_nbformat": 4
 },
 "nbformat": 4,
 "nbformat_minor": 2
}
