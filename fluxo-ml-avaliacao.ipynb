{
 "cells": [
  {
   "cell_type": "code",
   "execution_count": 1,
   "metadata": {},
   "outputs": [],
   "source": [
    "import pandas as pd\n",
    "\n",
    "from fluxo.dados import Dados\n",
    "from fluxo.carga_dados import CargaDados\n",
    "from classificador_segmentos import ClassificadorSegmentos"
   ]
  },
  {
   "cell_type": "code",
   "execution_count": 2,
   "metadata": {},
   "outputs": [],
   "source": [
    "pd.set_option('max_colwidth', 180)"
   ]
  },
  {
   "cell_type": "code",
   "execution_count": 3,
   "metadata": {},
   "outputs": [],
   "source": [
    "# Definição do tipo de ato\n",
    "# Valores válidos: 'ADE', 'SC' ou 'Port.'\n",
    "# O valor desta variável influencia todo o comportamento deste notebook\n",
    "tipo_ato = 'Port.'"
   ]
  },
  {
   "cell_type": "markdown",
   "metadata": {},
   "source": [
    "## Carga de dados desconhecidos ao modelo treinado"
   ]
  },
  {
   "cell_type": "code",
   "execution_count": 4,
   "metadata": {},
   "outputs": [
    {
     "name": "stderr",
     "output_type": "stream",
     "text": [
      "12:15:57 - Carregando dados de segmentos...\n",
      "12:15:57 - 12013 registros carregados.\n"
     ]
    }
   ],
   "source": [
    "dados = Dados()\n",
    "cg = CargaDados(path_dados_seg='./dados/extracao-segmentos-atos-2021.csv')\n",
    "cg.executar(dados)"
   ]
  },
  {
   "cell_type": "markdown",
   "metadata": {},
   "source": [
    "## Execução do pipeline de NLP"
   ]
  },
  {
   "cell_type": "code",
   "execution_count": 5,
   "metadata": {},
   "outputs": [
    {
     "name": "stderr",
     "output_type": "stream",
     "text": [
      "12:15:57 - Carregando modelo treinado para o tipo ADE...\n",
      "12:15:57 - Carregando modelo treinado para o tipo SC...\n",
      "12:15:57 - Carregando modelo treinado para o tipo Port....\n",
      "12:15:57 - Carregando vetorizador treinado para o tipo ADE...\n",
      "12:15:57 - Carregando vetorizador treinado para o tipo SC...\n",
      "12:15:57 - Carregando vetorizador treinado para o tipo Port....\n"
     ]
    }
   ],
   "source": [
    "clf_seg = ClassificadorSegmentos()"
   ]
  },
  {
   "cell_type": "code",
   "execution_count": 6,
   "metadata": {},
   "outputs": [
    {
     "name": "stderr",
     "output_type": "stream",
     "text": [
      "12:15:57 - (Re)Carregando segmentos originais...\n",
      "12:15:57 - Removendo segmentos nulos...\n",
      "12:15:57 - 15 segmentos nulos excluídos.\n",
      "12:15:57 - Restaram 11998 segmentos não nulos.\n",
      "12:15:57 - Removendo todos os segmentos do tipo Anexo...\n",
      "12:15:57 - 302 segmentos do tipo Anexo excluídos.\n",
      "12:15:57 - Determinando tipos de segmento (labels) para atos do tipo Port....\n",
      "12:15:57 - Tipos de segmento para atos Port.: ['Ementa', 'Fecho', 'Não Identificado']\n",
      "12:15:57 - Excluindo segmentos dos atos que não são Port....\n",
      "12:15:57 - 7380 segmentos de atos não Port. excluídos.\n",
      "12:15:57 - Restaram 4316 segmentos de atos Port..\n",
      "12:15:57 - Removendo segmentos não representativos para o tipo Port....\n",
      "12:15:57 - 256 segmentos não representativos excluídos.\n",
      "12:15:57 - Restaram 4060 segmentos representativos.\n",
      "12:15:57 - Removendo tags HTML...\n",
      "12:15:57 - Removendo caracteres de escape HTML...\n",
      "12:15:57 - Reclassificando segmentos não identificados...\n",
      "/home/91872936504/devx/saan/.env/lib/python3.6/site-packages/pandas/core/strings.py:2001: UserWarning: This pattern has match groups. To actually get the groups, use str.extract.\n",
      "  return func(self, *args, **kwargs)\n",
      "12:15:57 - 36 segmentos reclassificados como Artigo.\n",
      "12:15:57 - 1 segmentos reclassificados como Inciso.\n",
      "12:15:57 - 0 segmentos reclassificados como Alínea.\n",
      "12:15:57 - 1 segmentos reclassificados como Parágrafo.\n",
      "12:15:57 - Removendo segmentos classificados através de REGEX...\n",
      "12:15:57 - Foram excluídos 3073 segmentos classificados por REGEX.\n",
      "12:15:57 - Restaram 987 segmentos.\n",
      "12:15:57 - Limpeza de dados concluída.\n",
      "[nltk_data] Downloading package stopwords to\n",
      "[nltk_data]     /home/91872936504/nltk_data...\n",
      "[nltk_data]   Package stopwords is already up-to-date!\n",
      "12:15:58 - Convertendo caracteres para minúsculo...\n",
      "12:15:58 - Removendo pontuação...\n",
      "12:15:58 - Realizando tokenização...\n",
      "12:15:58 - Removendo stopwords...\n",
      "12:15:58 - Removendo tokens menores que 2 caracteres...\n",
      "12:15:58 - Reconstruindo texto a partir dos tokens...\n",
      "12:15:58 - Preprocessamento concluído.\n",
      "12:15:58 - Classificando segmentos...\n",
      "12:15:58 - Classificação concluída.\n"
     ]
    }
   ],
   "source": [
    "y_predito = clf_seg.classificar_segmentos(tipo_ato, dados)"
   ]
  },
  {
   "cell_type": "code",
   "execution_count": null,
   "metadata": {},
   "outputs": [],
   "source": []
  }
 ],
 "metadata": {
  "interpreter": {
   "hash": "c0ba501da4f5865c0ccc16fe492ffc700ae7ee2aea18452c05d7a5601d12d539"
  },
  "kernelspec": {
   "display_name": "Python 3.6.9 64-bit ('.env': venv)",
   "name": "python3"
  },
  "language_info": {
   "codemirror_mode": {
    "name": "ipython",
    "version": 3
   },
   "file_extension": ".py",
   "mimetype": "text/x-python",
   "name": "python",
   "nbconvert_exporter": "python",
   "pygments_lexer": "ipython3",
   "version": "3.6.9"
  },
  "orig_nbformat": 4
 },
 "nbformat": 4,
 "nbformat_minor": 2
}
